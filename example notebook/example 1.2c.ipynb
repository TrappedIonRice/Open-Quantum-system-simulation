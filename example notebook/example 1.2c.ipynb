{
 "cells": [
  {
   "cell_type": "markdown",
   "id": "aa4402fc",
   "metadata": {},
   "source": [
    "Compute the dynamics induced by 3 body coupling Hamiltonian. Consider modes in \n",
    "both x y radial directions. "
   ]
  },
  {
   "cell_type": "code",
   "execution_count": 1,
   "id": "c570b931",
   "metadata": {},
   "outputs": [],
   "source": [
    "#%%\n",
    "import numpy as np\n",
    "from qutip import *\n",
    "import matplotlib.pyplot as plt\n",
    "import Qsim.operator.spin as spin\n",
    "import Qsim.operator.spin_phonon as sp_op\n",
    "import Qsim.ion_chain.interaction.spin_phonon as Isp\n",
    "from  Qsim.ion_chain.ion_system import *\n",
    "from scipy import signal\n",
    "import copy"
   ]
  },
  {
   "cell_type": "code",
   "execution_count": 2,
   "id": "5a7120f4",
   "metadata": {},
   "outputs": [
    {
     "name": "stdout",
     "output_type": "stream",
     "text": [
      "Trap coefficients updated\n",
      "Anharmonic coefficients updated\n",
      "_____________________________________________________________\n",
      "Checking phonon space setup\n",
      "Phonon space setups are consistent\n",
      "_____________________________________________________________\n",
      "Phonon space parameters updated\n",
      "Cooling parameters updated\n",
      "Trap parametric modulation updated\n",
      "Ions class object initialized.\n",
      "________________________________________________________________\n",
      "********************Setup of the Trap************************\n",
      "number of ions 3\n",
      "Axial COM (Confining) frequency  1  [MHz]\n",
      "Radial COM (Confining) frequency  5 [MHz]\n",
      "Axial vibrational eigenfrequency [1.   1.73 2.41] MHz\n",
      "Radial (Transverse) vibrational eigenfrequency (1st set) [5.    4.899 4.754] [MHz]\n",
      "Radial (Transverse) vibrational eigenfrequency (2nd set) [5.2   5.099 4.954] [MHz]\n",
      "Modulation Amplitude for parameteric amplification:  [0] [V]\n",
      "Modulation Frequency for parameteric amplification:  [0] [MHz]\n",
      "Trap dimension parameter:  200 [um]\n",
      "                                                                 \n",
      "********************Config of Numeric Calculation************************\n",
      "index of phonon space included in simulation:  [[0], [0]]\n",
      "corresonding phonon space cutoff  [[6], [6]]\n",
      "********************Config of Cooling************************\n",
      "Coolant index  [1]\n",
      "********************Config of Trap Modulation************************\n",
      " Modulation Amplitude [0]  [V]\n",
      " Modulation Frequency [0]  [kHz]\n",
      " Trap dimension parameter 200  [um]\n"
     ]
    }
   ],
   "source": [
    "#%% set parameters of ion chain, simulation with com mode only\n",
    "ion_sys = Ions_asy(trap_config={'N': 3, 'fx': 5, 'fz': 1,'offset':200}, \n",
    "                   numeric_config={'active_spin': [0, 1, 2],'active_phonon': [[0],[0]], 'pcut': [[6],[6]]},\n",
    "                   )\n",
    "ion_sys.list_para() #print parameters of the system"
   ]
  },
  {
   "cell_type": "code",
   "execution_count": 3,
   "id": "cac84931",
   "metadata": {},
   "outputs": [
    {
     "name": "stdout",
     "output_type": "stream",
     "text": [
      "Laser parameters updated\n",
      "Lasers class object initialized.\n",
      "________________________________________________\n",
      "Parameteres of laser 1\n",
      "                                                                 \n",
      "********************Parameters of Laser Drive************************\n",
      "Vibrational degree of freedom couples to the laser: Transverse (Radial x)\n",
      "index of ions that couple to the laser field:  [0, 1, 2]\n",
      "Effective rabi frequency  17.32  [kHz]\n",
      "Effective laser frequency  10004.0  [kHz]\n",
      "Laser phase phis 0.0\n",
      "(input in rad but displayed in degs)\n",
      "________________________________________________\n",
      "Parameteres of laser 2\n",
      "                                                                 \n",
      "********************Parameters of Laser Drive************************\n",
      "Vibrational degree of freedom couples to the laser: Transverse (Radial x)\n",
      "index of ions that couple to the laser field:  [0, 1, 2]\n",
      "Effective rabi frequency  0.36  [kHz]\n",
      "Effective laser frequency  -5002.0  [kHz]\n",
      "Laser phase phis 0.0\n",
      "(input in rad but displayed in degs)\n",
      "________________________________________________\n",
      "Parameteres of laser 3\n",
      "                                                                 \n",
      "********************Parameters of Laser Drive************************\n",
      "Vibrational degree of freedom couples to the laser: Transverse (Radial x)\n",
      "index of ions that couple to the laser field:  [0, 1, 2]\n",
      "Effective rabi frequency  19.75  [kHz]\n",
      "Effective laser frequency  9994.8  [kHz]\n",
      "Laser phase phis 0.0\n",
      "(input in rad but displayed in degs)\n",
      "________________________________________________\n",
      "Parameteres of laser 4\n",
      "                                                                 \n",
      "********************Parameters of Laser Drive************************\n",
      "Vibrational degree of freedom couples to the laser: Transverse (Radial x)\n",
      "index of ions that couple to the laser field:  [0, 1, 2]\n",
      "Effective rabi frequency  0.41  [kHz]\n",
      "Effective laser frequency  -4997.4  [kHz]\n",
      "Laser phase phis 0.0\n",
      "(input in rad but displayed in degs)\n",
      "5.0\n"
     ]
    }
   ],
   "source": [
    "#%% set parameters of lasers in x\n",
    "R1 = 26*1e3*2*np.pi #recoil frequency\n",
    "#compute Dk\n",
    "Dk1 = np.sqrt(R1*2*MYb171/h) #effective wavenumber\n",
    "q = 1.3 #compensation scale parameter\n",
    "delta = 2 #kHz\n",
    "scale_x = 1 #set this to 0 to disable lasers in x direction\n",
    "#symmetric beatnote\n",
    "#blue sideband 1\n",
    "laserx1 = Laser(config = {'Omega_eff':30,'wavevector':1,'Dk':Dk1,'laser_couple':[0,1,2],\n",
    "                'mu':2*(delta+1e3*ion_sys.fx),'phase':0})\n",
    "Omega_r = 5*laserx1.eta(ion_sys.fx)\n",
    "Omega_b = 2*np.sqrt(3)*Omega_r/laserx1.eta(ion_sys.fx)\n",
    "laserx1.Omega_eff = Omega_b * scale_x \n",
    "#red sideband\n",
    "laserx2 = copy.copy(laserx1)\n",
    "laserx2.Omega_eff = Omega_r * scale_x \n",
    "laserx2.mu = -1*(delta+1e3*ion_sys.fx)\n",
    "#compensation beatnote\n",
    "#compensation blue sideband\n",
    "laserx3 = copy.copy(laserx1)\n",
    "laserx3.Omega_eff = np.sqrt(q)*Omega_b*scale_x  \n",
    "laserx3.mu = 2*(-q*delta+1e3*ion_sys.fx)\n",
    "#compensation red sideband\n",
    "laserx4 = copy.copy(laserx1)\n",
    "laserx4.Omega_eff = np.sqrt(q)*Omega_r*scale_x  \n",
    "laserx4.mu = -1*(-q*delta+1e3*ion_sys.fx)\n",
    "print('________________________________________________')\n",
    "print('Parameteres of laser 1')\n",
    "laserx1.list_para()\n",
    "print('________________________________________________')\n",
    "print('Parameteres of laser 2')\n",
    "laserx2.list_para()\n",
    "print('________________________________________________')\n",
    "print('Parameteres of laser 3')\n",
    "laserx3.list_para()\n",
    "print('________________________________________________')\n",
    "print('Parameteres of laser 4')\n",
    "laserx4.list_para()\n",
    "#print(laser1.R/(2*np.pi))\n",
    "print(laserx2.Omega(ion_sys)/(2*np.pi))"
   ]
  },
  {
   "cell_type": "code",
   "execution_count": 4,
   "id": "c669cb4c",
   "metadata": {},
   "outputs": [
    {
     "name": "stdout",
     "output_type": "stream",
     "text": [
      "Laser parameters updated\n",
      "Lasers class object initialized.\n",
      "________________________________________________\n",
      "Parameteres of laser 1\n",
      "                                                                 \n",
      "********************Parameters of Laser Drive************************\n",
      "Vibrational degree of freedom couples to the laser: Transverse (Radial y)\n",
      "index of ions that couple to the laser field:  [0, 1, 2]\n",
      "Effective rabi frequency  17.66  [kHz]\n",
      "Effective laser frequency  10404.0  [kHz]\n",
      "Laser phase phis 0.0\n",
      "(input in rad but displayed in degs)\n",
      "________________________________________________\n",
      "Parameteres of laser 2\n",
      "                                                                 \n",
      "********************Parameters of Laser Drive************************\n",
      "Vibrational degree of freedom couples to the laser: Transverse (Radial y)\n",
      "index of ions that couple to the laser field:  [0, 1, 2]\n",
      "Effective rabi frequency  0.36  [kHz]\n",
      "Effective laser frequency  -5202.0  [kHz]\n",
      "Laser phase phis 0.0\n",
      "(input in rad but displayed in degs)\n",
      "________________________________________________\n",
      "Parameteres of laser 3\n",
      "                                                                 \n",
      "********************Parameters of Laser Drive************************\n",
      "Vibrational degree of freedom couples to the laser: Transverse (Radial y)\n",
      "index of ions that couple to the laser field:  [0, 1, 2]\n",
      "Effective rabi frequency  20.14  [kHz]\n",
      "Effective laser frequency  10394.8  [kHz]\n",
      "Laser phase phis 0.0\n",
      "(input in rad but displayed in degs)\n",
      "________________________________________________\n",
      "Parameteres of laser 4\n",
      "                                                                 \n",
      "********************Parameters of Laser Drive************************\n",
      "Vibrational degree of freedom couples to the laser: Transverse (Radial y)\n",
      "index of ions that couple to the laser field:  [0, 1, 2]\n",
      "Effective rabi frequency  0.41  [kHz]\n",
      "Effective laser frequency  -5197.4  [kHz]\n",
      "Laser phase phis 0.0\n",
      "(input in rad but displayed in degs)\n",
      "5.099019513592785\n"
     ]
    }
   ],
   "source": [
    "#%% set parameters of lasers in y\n",
    "R2 = 26*1e3*2*np.pi #recoil frequency\n",
    "#compute Dk\n",
    "Dk2 = np.sqrt(R2*2*MYb171/h) #effective wavenumber\n",
    "q = 1.3 #compensation scale parameter\n",
    "delta = 2 #kHz\n",
    "scale_y = 1 #set this to 0 to disable lasers in y direction\n",
    "#symmetric beatnote\n",
    "#blue sideband 1\n",
    "lasery1 = Laser(config = {'Omega_eff':30,'wavevector':2,'Dk':Dk2,'laser_couple':[0,1,2],\n",
    "                'mu':2*(delta+1e3*ion_sys.radial_freq2[0]),'phase':0})\n",
    "#Rabi frequencies are set such that the coupling strength is the same as in x direction\n",
    "Omega_b = 2*np.sqrt(3)*Omega_r/lasery1.eta(ion_sys.radial_freq2[0])\n",
    "lasery1.Omega_eff = Omega_b*scale_y \n",
    "#red sideband\n",
    "lasery2 = copy.copy(lasery1)\n",
    "lasery2.Omega_eff = Omega_r*scale_y\n",
    "lasery2.mu = -1*(delta+1e3*ion_sys.radial_freq2[0])\n",
    "#compensation beatnote\n",
    "#compensation blue sideband\n",
    "lasery3 = copy.copy(lasery1) \n",
    "lasery3.Omega_eff = np.sqrt(q)*Omega_b *scale_y\n",
    "lasery3.mu = 2*(-q*delta+1e3*ion_sys.radial_freq2[0])\n",
    "#compensation red sideband\n",
    "lasery4 = copy.copy(lasery1)\n",
    "lasery4.Omega_eff = np.sqrt(q)*Omega_r*scale_y\n",
    "lasery4.mu = -1*(-q*delta+1e3*ion_sys.radial_freq2[0])\n",
    "print('________________________________________________')\n",
    "print('Parameteres of laser 1')\n",
    "lasery1.list_para()\n",
    "print('________________________________________________')\n",
    "print('Parameteres of laser 2')\n",
    "lasery2.list_para()\n",
    "print('________________________________________________')\n",
    "print('Parameteres of laser 3')\n",
    "lasery3.list_para()\n",
    "print('________________________________________________')\n",
    "print('Parameteres of laser 4')\n",
    "lasery4.list_para()\n",
    "#print(laser1.R/(2*np.pi))\n",
    "print(lasery2.Omega(ion_sys)/(2*np.pi))\n",
    "N = 3"
   ]
  },
  {
   "cell_type": "code",
   "execution_count": 9,
   "id": "d7ccc809",
   "metadata": {},
   "outputs": [
    {
     "name": "stdout",
     "output_type": "stream",
     "text": [
      "predicted period, [ms]\n",
      "157.49177914804858\n"
     ]
    }
   ],
   "source": [
    "#%%Reproduce plot 2(d), only consider com mode\n",
    "def Tthree(eta0, wr,wb,delta0,q):\n",
    "    J32 = (1+np.sqrt(1/q))*(eta0**4*wr**2*wb)/(16*delta0**2)\n",
    "    return np.pi/(6*J32)\n",
    "eta_com = laserx1.eta(ion_sys.fx)/np.sqrt(3)\n",
    "print('predicted period, [ms]')\n",
    "print(Tthree(eta_com,laserx2.Omega(ion_sys),laserx1.Omega(ion_sys),delta*2*np.pi,q))"
   ]
  },
  {
   "cell_type": "code",
   "execution_count": 5,
   "id": "2cd31c11",
   "metadata": {},
   "outputs": [
    {
     "name": "stdout",
     "output_type": "stream",
     "text": [
      "RWA critrion frequency: 670.94 [kHz]\n"
     ]
    }
   ],
   "source": [
    "#%%compute rwa critirion\n",
    "delta_omega = (np.max(ion_sys.radial_freq)- np.min(ion_sys.radial_freq))*1000\n",
    "rwa_fc = fr_conv(2*q*(delta_omega+delta+10),'Hz') \n",
    "print('RWA critrion frequency: '+ str(np.round(rwa_fc/(2*np.pi),2))+' [kHz]')\n",
    "#10 is an additional factor to make sure all frequencies are included"
   ]
  },
  {
   "cell_type": "code",
   "execution_count": 6,
   "id": "d2ef9e62",
   "metadata": {},
   "outputs": [],
   "source": [
    "#%% construct Hamiltonian \n",
    "laser_list_x = [laserx1,laserx2,laserx3,laserx4]\n",
    "laser_list_y = [lasery1,lasery2,lasery3,lasery4]\n",
    "arg_com_x = Isp.H_td_argdic_general(ion0 = ion_sys, laser_list=laser_list_x)\n",
    "arg_com_y = Isp.H_td_argdic_general(ion0 = ion_sys, laser_list=laser_list_y)\n",
    "arg_com = arg_com_x | arg_com_y\n",
    "Heff_com = Isp.H_td_multi_drives_asy(ion_sys, laser_list=[laser_list_x,laser_list_y],\n",
    "                                     second_order=True,\n",
    "                              rwa=True,arg_dic=arg_com,f_crit=rwa_fc ) #construct time-dependent H\n",
    "#print('number of terms,', len(Heff1))\n",
    "#construct initial state (down down down)\n",
    "spin_config = np.array([1,1,1])\n",
    "psi1 =  sp_op.ini_state(ion_sys,s_state = spin_config, p_state = [[0],[0]], state_type=1)\n",
    "elist_com = [tensor(spin.sz(N,0),sp_op.p_I(ion_sys)),\n",
    "          tensor(spin.sz(N,1),sp_op.p_I(ion_sys)),\n",
    "          tensor(spin.sz(N,2),sp_op.p_I(ion_sys))]"
   ]
  },
  {
   "cell_type": "code",
   "execution_count": 9,
   "id": "00852d4c",
   "metadata": {},
   "outputs": [
    {
     "name": "stdout",
     "output_type": "stream",
     "text": [
      "______________________________________________________________________\n",
      "solving SE with time-dependent H\n",
      "10.0%. Run time:   5.27s. Est. time left: 00:00:00:47\n",
      "20.0%. Run time:  10.56s. Est. time left: 00:00:00:42\n",
      "30.0%. Run time:  15.67s. Est. time left: 00:00:00:36\n",
      "40.0%. Run time:  20.37s. Est. time left: 00:00:00:30\n",
      "50.0%. Run time:  24.69s. Est. time left: 00:00:00:24\n",
      "60.0%. Run time:  28.89s. Est. time left: 00:00:00:19\n",
      "70.0%. Run time:  33.47s. Est. time left: 00:00:00:14\n",
      "80.0%. Run time:  38.63s. Est. time left: 00:00:00:09\n",
      "90.0%. Run time:  43.98s. Est. time left: 00:00:00:04\n",
      "Total run time:  49.22s\n"
     ]
    }
   ],
   "source": [
    "#%%solve time dependent SE\n",
    "times =  np.arange(0,80,1e-3)\n",
    "print('______________________________________________________________________')\n",
    "print('solving SE with time-dependent H')\n",
    "result1 = sesolve(Heff_com,psi1,times,args = arg_com,progress_bar=True,options=Options(nsteps=10000))      "
   ]
  },
  {
   "cell_type": "code",
   "execution_count": 10,
   "id": "637e0339",
   "metadata": {},
   "outputs": [
    {
     "data": {
      "image/png": "[encoded data removed]",
      "text/plain": [
       "<Figure size 432x288 with 1 Axes>"
      ]
     },
     "metadata": {
      "needs_background": "light"
     },
     "output_type": "display_data"
    }
   ],
   "source": [
    "#%%\n",
    "#plot spin evolution\n",
    "p1 = expect(elist_com[0],result1.states)\n",
    "p2 = expect(elist_com[1],result1.states)\n",
    "p3 = expect(elist_com[2],result1.states)\n",
    "plt.plot(times,p1,label = 'site 1')\n",
    "plt.plot(times,p2,label = 'site 2')\n",
    "plt.plot(times,p3,label = 'site 3')\n",
    "plt.xlabel(r'$t$ [ms]',fontsize = 14)\n",
    "plt.ylabel(r'$<\\sigma_{z}>$',fontsize = 14)\n",
    "plt.ylim(-1,1)\n",
    "plt.yticks(np.arange(-1,1.2,0.2),fontsize = 14)\n",
    "plt.xticks(fontsize = 14)\n",
    "plt.legend(fontsize = 12)\n",
    "plt.grid()\n",
    "plt.show()"
   ]
  },
  {
   "cell_type": "code",
   "execution_count": 11,
   "id": "98388c1f",
   "metadata": {},
   "outputs": [
    {
     "name": "stdout",
     "output_type": "stream",
     "text": [
      "Estimated phonon cutoff error:  0.00031\n"
     ]
    },
    {
     "data": {
      "text/plain": [
       "<Figure size 432x288 with 0 Axes>"
      ]
     },
     "metadata": {},
     "output_type": "display_data"
    },
    {
     "data": {
      "image/png": "[encoded data removed]",
      "text/plain": [
       "<Figure size 576x432 with 1 Axes>"
      ]
     },
     "metadata": {
      "needs_background": "light"
     },
     "output_type": "display_data"
    },
    {
     "data": {
      "image/png": "[encoded data removed]",
      "text/plain": [
       "<Figure size 432x288 with 1 Axes>"
      ]
     },
     "metadata": {
      "needs_background": "light"
     },
     "output_type": "display_data"
    }
   ],
   "source": [
    "#%%phonon evolution\n",
    "#x phonon modes\n",
    "sp_op.phonon_cutoff_error(result1.states, ion_sys, df=1, mindex=0,plot=True)\n",
    "pplot = expect(sp_op.phonon_measure(ion_sys,1,mindex=0), result1.states)\n",
    "plt.plot(times,pplot,label = 'Phonon')\n",
    "plt.xlabel(r'$t$ [ms]',fontsize = 14)\n",
    "#title = r'$\\delta_{com} = $'+str(ion_sys.delta)+' kHz'\n",
    "plt.ylabel(r'$<a^+ a>$(x)',fontsize = 14)\n",
    "#plt.title(title,fontsize = 14)\n",
    "plt.yticks(fontsize = 14)\n",
    "plt.xticks(fontsize = 14)\n",
    "plt.legend(fontsize = 12)\n",
    "plt.grid()\n",
    "plt.show()"
   ]
  },
  {
   "cell_type": "code",
   "execution_count": 12,
   "id": "4403f8ea",
   "metadata": {},
   "outputs": [
    {
     "name": "stdout",
     "output_type": "stream",
     "text": [
      "Estimated phonon cutoff error:  0.00031\n"
     ]
    },
    {
     "data": {
      "text/plain": [
       "<Figure size 432x288 with 0 Axes>"
      ]
     },
     "metadata": {},
     "output_type": "display_data"
    },
    {
     "data": {
      "image/png": "[encoded data removed]",
      "text/plain": [
       "<Figure size 576x432 with 1 Axes>"
      ]
     },
     "metadata": {
      "needs_background": "light"
     },
     "output_type": "display_data"
    },
    {
     "data": {
      "image/png": "[encoded data removed]",
      "text/plain": [
       "<Figure size 432x288 with 1 Axes>"
      ]
     },
     "metadata": {
      "needs_background": "light"
     },
     "output_type": "display_data"
    }
   ],
   "source": [
    "#%%phonon evolution\n",
    "#y phonon modes\n",
    "sp_op.phonon_cutoff_error(result1.states, ion_sys, df=2, mindex=0,plot=True)\n",
    "pplot = expect(sp_op.phonon_measure(ion_sys,2,mindex=0), result1.states)\n",
    "plt.plot(times,pplot,label = 'Phonon')\n",
    "plt.xlabel(r'$t$ [ms]',fontsize = 14)\n",
    "#title = r'$\\delta_{com} = $'+str(ion_sys.delta)+' kHz'\n",
    "plt.ylabel(r'$<a^+ a>$(y)',fontsize = 14)\n",
    "#plt.title(title,fontsize = 14)\n",
    "plt.yticks(fontsize = 14)\n",
    "plt.xticks(fontsize = 14)\n",
    "plt.legend(fontsize = 12)\n",
    "plt.grid()\n",
    "plt.show()"
   ]
  },
  {
   "cell_type": "code",
   "execution_count": null,
   "id": "13f162f7",
   "metadata": {},
   "outputs": [],
   "source": []
  }
 ],
 "metadata": {
  "kernelspec": {
   "display_name": "Python 3 (ipykernel)",
   "language": "python",
   "name": "python3"
  },
  "language_info": {
   "codemirror_mode": {
    "name": "ipython",
    "version": 3
   },
   "file_extension": ".py",
   "mimetype": "text/x-python",
   "name": "python",
   "nbconvert_exporter": "python",
   "pygments_lexer": "ipython3",
   "version": "3.9.7"
  }
 },
 "nbformat": 4,
 "nbformat_minor": 5
}
