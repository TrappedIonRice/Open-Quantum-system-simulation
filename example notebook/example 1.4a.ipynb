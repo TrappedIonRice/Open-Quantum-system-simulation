{
 "cells": [
  {
   "cell_type": "markdown",
   "id": "6c6c8e4f",
   "metadata": {},
   "source": [
    "Simulate 2body coupling with PA and plot time evolution of wigner function."
   ]
  },
  {
   "cell_type": "code",
   "execution_count": 1,
   "id": "de0bce4b",
   "metadata": {},
   "outputs": [],
   "source": [
    "import numpy as np\n",
    "from qutip import *\n",
    "import matplotlib.pyplot as plt\n",
    "import matplotlib as mpl\n",
    "import Qsim.operator.spin as spin\n",
    "import Qsim.operator.phonon as phon\n",
    "import Qsim.ion_chain.ising.ising_ps as iscp\n",
    "import Qsim.ion_chain.ising.ising_c as iscc\n",
    "import Qsim.operator.spin_phonon as sp_op\n",
    "import Qsim.ion_chain.interaction.spin_phonon as Isp\n",
    "from  Qsim.ion_chain.ion_system import *\n",
    "from scipy import signal\n",
    "import Qsim.auxiliay_function.wigner as wg\n",
    "import os"
   ]
  },
  {
   "cell_type": "code",
   "execution_count": 6,
   "id": "e2efd3a7",
   "metadata": {},
   "outputs": [
    {
     "name": "stdout",
     "output_type": "stream",
     "text": [
      "Trap coefficients updated\n",
      "Anharmonic coefficients updated\n",
      "_____________________________________________________________\n",
      "Checking phonon space setup\n",
      "Phonon space setups are consistent\n",
      "_____________________________________________________________\n",
      "Phonon space parameters updated\n",
      "Cooling parameters updated\n",
      "Trap parametric modulation updated\n",
      "Ions class object initialized.\n",
      "________________________________________________________________\n",
      "********************Setup of the Trap************************\n",
      "number of ions 2\n",
      "Axial COM (Confining) frequency  1  [MHz]\n",
      "Radial COM (Confining) frequency  3 [MHz]\n",
      "Axial vibrational eigenfrequency [1.   1.73] MHz\n",
      "Radial (Transverse) vibrational eigenfrequency [3.   2.83] [MHz]\n",
      "Modulation Amplitude for parameteric amplification:  0 [V]\n",
      "Modulation Frequency for parameteric amplification:  0 [MHz]\n",
      "Trap dimension parameter:  200 [um]\n",
      "                                                                 \n",
      "********************Config of Numeric Calculation************************\n",
      "index of phonon space included in simulation:  [[0, 1]]\n",
      "corresonding phonon space cutoff  [[50, 50]]\n",
      "********************Config of Cooling************************\n",
      "Effective cooling rate  [2. 2.]  [kHz]\n",
      "Coolant index  [1]\n",
      "********************Config of Trap Modulation************************\n",
      " Modulation Amplitude 0  [V]\n",
      " Modulation Amplitude 0  [kHz]\n",
      " Trap dimension parameter 200  [um]\n",
      "Laser parameters updated\n",
      "Lasers class object initialized.\n",
      "                                                                 \n",
      "********************Parameters of Laser Drive************************\n",
      "Vibrational degree of freedom couples to the laser: Transverse (Radial)\n",
      "index of ions that couple to the laser field:  [0, 1]\n",
      "Effective rabi frequency  30  [kHz]\n",
      "Effective laser frequency  3025.0  [kHz]\n",
      "Laser phase phis 0.0\n",
      "(input in rad but displayed in degs)\n"
     ]
    }
   ],
   "source": [
    "delta = 25\n",
    "ion_sys = ions(trap_config={'N': 2, 'fx': 3, 'fz': 1}, \n",
    "                   numeric_config={'active_spin': [0, 1],'active_phonon': [[0,1]], 'pcut': [[50,50]]},\n",
    "                   )\n",
    "ion_sys.list_para() #print parameters of the system\n",
    "laser1 = Laser(config = {'Omega_eff':30,'wavevector':1,'Dk':np.sqrt(2)*2*np.pi / (355*10**(-9)),\n",
    "                         'laser_couple':[0,1], 'mu':delta+1e3*ion_sys.fx,'phase':0})\n",
    "laser1.list_para()\n",
    "Bz = 0 #Effective magnetic field\n",
    "N = ion_sys.N"
   ]
  },
  {
   "cell_type": "code",
   "execution_count": 7,
   "id": "3e7357e6",
   "metadata": {},
   "outputs": [],
   "source": [
    "#%% construct states and operators \n",
    "spin_config = np.array([0,0])\n",
    "psi1 = sp_op.ini_state(ion_sys,spin_config,[[0,0]],1)\n",
    "rho1 = sp_op.ini_state(ion_sys,spin_config,[[0,0]],0)\n",
    "elist2 = [tensor(spin.sz(N,0),sp_op.p_I(ion_sys)),tensor(spin.sz(N,1),sp_op.p_I(ion_sys))]\n",
    "#projection operators\n",
    "up = basis(2,0)\n",
    "down = basis(2,1)\n",
    "s1 = (basis(2,0)+basis(2,1))/np.sqrt(2) #|++>\n",
    "s2 = (basis(2,0)-basis(2,1))/np.sqrt(2) #|-->\n",
    "splus = tensor(s1,s1) ; sminus = tensor(s2,s2)\n",
    "proj1=tensor(splus*splus.dag(),sp_op.p_I(ion_sys))\n",
    "proj2=tensor(sminus*sminus.dag(),sp_op.p_I(ion_sys))"
   ]
  },
  {
   "cell_type": "code",
   "execution_count": 8,
   "id": "839ec9e7",
   "metadata": {},
   "outputs": [
    {
     "name": "stdout",
     "output_type": "stream",
     "text": [
      "Trap parametric modulation updated\n",
      "________________________________________________________________\n",
      "********************Setup of the Trap************************\n",
      "number of ions 2\n",
      "Axial COM (Confining) frequency  1  [MHz]\n",
      "Radial COM (Confining) frequency  3 [MHz]\n",
      "Axial vibrational eigenfrequency [1.   1.73] MHz\n",
      "Radial (Transverse) vibrational eigenfrequency [3.   2.83] [MHz]\n",
      "Modulation Amplitude for parameteric amplification:  0.1 [V]\n",
      "Modulation Frequency for parameteric amplification:  6050 [MHz]\n",
      "Trap dimension parameter:  200 [um]\n",
      "                                                                 \n",
      "********************Config of Numeric Calculation************************\n",
      "index of phonon space included in simulation:  [[0, 1]]\n",
      "corresonding phonon space cutoff  [[50, 50]]\n",
      "********************Config of Cooling************************\n",
      "Effective cooling rate  [2. 2.]  [kHz]\n",
      "Coolant index  [1]\n",
      "********************Config of Trap Modulation************************\n",
      " Modulation Amplitude 0.1  [V]\n",
      " Modulation Amplitude 6050  [kHz]\n",
      " Trap dimension parameter 200  [um]\n",
      "Predicted phonon osicllation frequency, [kHz]\n",
      "21.98051811288237\n"
     ]
    }
   ],
   "source": [
    "#%% set PA parameters, set V_mod to 0 for dynamics without PA\n",
    "ion_sys.update_PM(para_mod_config = {'f_mod':2*(ion_sys.fx*1000+delta) ,'V_mod':0.1,'d_T':200})\n",
    "ion_sys.list_para() #print parameters of the system\n",
    "print('Predicted phonon osicllation frequency, [kHz]')\n",
    "gcoef = ion_sys.PA_coef(1,0)/(2*np.pi)\n",
    "delta1 = np.sqrt(delta**2 - gcoef**2 )\n",
    "print(delta1)"
   ]
  },
  {
   "cell_type": "code",
   "execution_count": 9,
   "id": "5e980121",
   "metadata": {},
   "outputs": [
    {
     "name": "stdout",
     "output_type": "stream",
     "text": [
      "______________________________________________________________________\n",
      "solving for complete Hamiltonian\n",
      "10.0%. Run time:   3.08s. Est. time left: 00:00:00:27\n",
      "20.0%. Run time:   6.60s. Est. time left: 00:00:00:26\n",
      "30.0%. Run time:  10.20s. Est. time left: 00:00:00:23\n",
      "40.0%. Run time:  13.52s. Est. time left: 00:00:00:20\n",
      "50.0%. Run time:  16.56s. Est. time left: 00:00:00:16\n",
      "60.0%. Run time:  19.83s. Est. time left: 00:00:00:13\n",
      "70.0%. Run time:  23.55s. Est. time left: 00:00:00:10\n",
      "80.0%. Run time:  27.07s. Est. time left: 00:00:00:06\n",
      "90.0%. Run time:  30.25s. Est. time left: 00:00:00:03\n",
      "Total run time:  33.63s\n"
     ]
    }
   ],
   "source": [
    "#%% Construct Hamiltonain\n",
    "times =  np.arange(0,0.1,10**(-4))\n",
    "Heff,arg0 = iscc.H_ord(Bz,ion_sys,laser1)\n",
    "H_PA_com, arg_Hpa = Isp.H_PA_td(ion_sys)\n",
    "Heff2 = Heff + H_PA_com; arg2 = arg0 | arg_Hpa\n",
    "#solve time dependent SE\n",
    "print('______________________________________________________________________')\n",
    "print('solving for complete Hamiltonian')\n",
    "result2 = sesolve(Heff2,psi1,times,args = arg2,progress_bar=True,options=Options(nsteps=10000))\n",
    "#result2 = mesolve(Heff2,rho1,times,args = arg2,progress_bar=True,options=Options(nsteps=10000))  "
   ]
  },
  {
   "cell_type": "code",
   "execution_count": 10,
   "id": "50ec33e9",
   "metadata": {},
   "outputs": [
    {
     "data": {
      "image/png": "[encoded data removed]",
      "text/plain": [
       "<Figure size 432x288 with 1 Axes>"
      ]
     },
     "metadata": {
      "needs_background": "light"
     },
     "output_type": "display_data"
    }
   ],
   "source": [
    "#%% plot spin dynamics\n",
    "#p1 = expect(elist1[0],result1.states)\n",
    "#plt.plot(times,p1,label = 'pure spin')\n",
    "p2 = expect(elist2[0],result2.states)\n",
    "plt.plot(times,p2,label = 'complete H')\n",
    "plt.xlabel(r'$t$ [ms]',fontsize = 14)\n",
    "plt.ylabel(r'$<\\sigma_{zz}>$',fontsize = 14)\n",
    "plt.yticks(fontsize = 14)\n",
    "plt.xticks(fontsize = 14)\n",
    "plt.legend(fontsize = 12)\n",
    "plt.grid()\n",
    "plt.show()"
   ]
  },
  {
   "cell_type": "code",
   "execution_count": 11,
   "id": "0c460c1c",
   "metadata": {},
   "outputs": [
    {
     "name": "stdout",
     "output_type": "stream",
     "text": [
      "Maximum phonon population highest com fock state\n",
      "5.261526507682372e-11\n"
     ]
    },
    {
     "data": {
      "image/png": "[encoded data removed]",
      "text/plain": [
       "<Figure size 432x288 with 1 Axes>"
      ]
     },
     "metadata": {
      "needs_background": "light"
     },
     "output_type": "display_data"
    }
   ],
   "source": [
    "#%% plot phonon dynamics\n",
    "mp_state1 = expect(sp_op.pstate_measure(ion_sys,laser1,49,0),result2.states) \n",
    "pplot = expect(sp_op.phonon_measure(ion_sys,laser1, mindex=0), result2.states)\n",
    "print('Maximum phonon population highest com fock state')\n",
    "print(np.max(mp_state1))\n",
    "plt.plot(times,pplot,label = 'complete H')\n",
    "plt.xlabel(r'$t$ [ms]',fontsize = 14)\n",
    "plt.ylabel(r'$<a^+ a>$',fontsize = 14)\n",
    "plt.yticks(fontsize = 14)\n",
    "plt.xticks(fontsize = 14)\n",
    "plt.legend(fontsize = 12)\n",
    "plt.grid()\n",
    "plt.show()"
   ]
  },
  {
   "cell_type": "code",
   "execution_count": 12,
   "id": "ec118992",
   "metadata": {},
   "outputs": [
    {
     "name": "stdout",
     "output_type": "stream",
     "text": [
      "start frame generation\n"
     ]
    },
    {
     "name": "stderr",
     "output_type": "stream",
     "text": [
      "D:\\Anaconda\\lib\\site-packages\\sigfig\\sigfig.py:586: UserWarning: warning: 2 significant figures requested from number with only 1 significant figures\n",
      "  warn(\"warning: %d significant figures requested from number with only %d significant figures\" % (given['sigfigs'], len(num.map)))\n"
     ]
    },
    {
     "name": "stdout",
     "output_type": "stream",
     "text": [
      "percent of tasks completed: 10%\n",
      "percent of tasks completed: 20%\n",
      "percent of tasks completed: 30%\n",
      "percent of tasks completed: 40%\n",
      "percent of tasks completed: 50%\n",
      "percent of tasks completed: 60%\n",
      "percent of tasks completed: 70%\n",
      "percent of tasks completed: 80%\n",
      "All tasks finished.\n"
     ]
    }
   ],
   "source": [
    "#%% generate frames for gif, use |++> as projector plot\n",
    "tot_frame = 25\n",
    "wg.wigner_evol_frames(tot_frame,times,result2, proj1, 2)"
   ]
  },
  {
   "cell_type": "code",
   "execution_count": 13,
   "id": "80d2cdb0",
   "metadata": {},
   "outputs": [
    {
     "name": "stdout",
     "output_type": "stream",
     "text": [
      "2body_PA + .gif successfully generated.\n",
      "Stored at C:\\Users\\zhumj\\Desktop\\notebook examples\n"
     ]
    }
   ],
   "source": [
    "#%% create gif using generated frames\n",
    "wg.wiger_evol_gif(tot_frame,'2body_PA + .gif',frame_duration=0.5,remove_frame = True)\n"
   ]
  },
  {
   "cell_type": "code",
   "execution_count": null,
   "id": "78461553",
   "metadata": {},
   "outputs": [],
   "source": []
  }
 ],
 "metadata": {
  "kernelspec": {
   "display_name": "Python 3 (ipykernel)",
   "language": "python",
   "name": "python3"
  },
  "language_info": {
   "codemirror_mode": {
    "name": "ipython",
    "version": 3
   },
   "file_extension": ".py",
   "mimetype": "text/x-python",
   "name": "python",
   "nbconvert_exporter": "python",
   "pygments_lexer": "ipython3",
   "version": "3.9.7"
  }
 },
 "nbformat": 4,
 "nbformat_minor": 5
}
