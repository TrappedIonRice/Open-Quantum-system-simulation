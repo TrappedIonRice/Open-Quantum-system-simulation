{
 "cells": [
  {
   "cell_type": "markdown",
   "id": "183be811",
   "metadata": {},
   "source": [
    "Simulate 3body coupling with PA and plot time evolution of wigner function."
   ]
  },
  {
   "cell_type": "code",
   "execution_count": 1,
   "id": "77c58b17",
   "metadata": {},
   "outputs": [],
   "source": [
    "import numpy as np\n",
    "from qutip import *\n",
    "import matplotlib.pyplot as plt\n",
    "import Qsim.operator.spin as spin\n",
    "import Qsim.operator.phonon as phon\n",
    "import Qsim.ion_chain.ising.ising_ps as iscp\n",
    "import Qsim.ion_chain.ising.ising_c as iscc\n",
    "import Qsim.operator.spin_phonon as sp_op\n",
    "import Qsim.ion_chain.interaction.spin_phonon as Isp\n",
    "from  Qsim.ion_chain.ion_system import *\n",
    "import copy\n",
    "import imageio\n",
    "import Qsim.auxiliay_function.wigner as wg"
   ]
  },
  {
   "cell_type": "code",
   "execution_count": 2,
   "id": "5e5e7a49",
   "metadata": {},
   "outputs": [
    {
     "name": "stdout",
     "output_type": "stream",
     "text": [
      "Trap coefficients updated\n",
      "Anharmonic coefficients updated\n",
      "_____________________________________________________________\n",
      "Checking phonon space setup\n",
      "Phonon space setups are consistent\n",
      "_____________________________________________________________\n",
      "Phonon space parameters updated\n",
      "Cooling parameters updated\n",
      "Trap parametric modulation updated\n",
      "Ions class object initialized.\n"
     ]
    }
   ],
   "source": [
    "#%% set ion chain parameters\n",
    "ion_sys = ions(trap_config={'N': 3, 'fx': 5, 'fz': 1}, \n",
    "                   numeric_config={'active_spin': [0, 1, 2],'active_phonon': [[0]], 'pcut': [[40]]},\n",
    "                   )"
   ]
  },
  {
   "cell_type": "code",
   "execution_count": 4,
   "id": "99cbf46a",
   "metadata": {},
   "outputs": [
    {
     "name": "stdout",
     "output_type": "stream",
     "text": [
      "Laser parameters updated\n",
      "Lasers class object initialized.\n",
      "________________________________________________\n",
      "Parameteres of laser 1\n",
      "                                                                 \n",
      "********************Parameters of Laser Drive************************\n",
      "Vibrational degree of freedom couples to the laser: Transverse (Radial)\n",
      "index of ions that couple to the laser field:  [0, 1, 2]\n",
      "Effective rabi frequency  34.64  [kHz]\n",
      "Effective laser frequency  10020.0  [kHz]\n",
      "Laser phase phis 0.0\n",
      "(input in rad but displayed in degs)\n",
      "________________________________________________\n",
      "Parameteres of laser 2\n",
      "                                                                 \n",
      "********************Parameters of Laser Drive************************\n",
      "Vibrational degree of freedom couples to the laser: Transverse (Radial)\n",
      "index of ions that couple to the laser field:  [0, 1, 2]\n",
      "Effective rabi frequency  0.72  [kHz]\n",
      "Effective laser frequency  -5010.0  [kHz]\n",
      "Laser phase phis 0.0\n",
      "(input in rad but displayed in degs)\n",
      "________________________________________________\n",
      "Parameteres of laser 3\n",
      "                                                                 \n",
      "********************Parameters of Laser Drive************************\n",
      "Vibrational degree of freedom couples to the laser: Transverse (Radial)\n",
      "index of ions that couple to the laser field:  [0, 1, 2]\n",
      "Effective rabi frequency  39.5  [kHz]\n",
      "Effective laser frequency  9974.0  [kHz]\n",
      "Laser phase phis 0.0\n",
      "(input in rad but displayed in degs)\n",
      "________________________________________________\n",
      "Parameteres of laser 4\n",
      "                                                                 \n",
      "********************Parameters of Laser Drive************************\n",
      "Vibrational degree of freedom couples to the laser: Transverse (Radial)\n",
      "index of ions that couple to the laser field:  [0, 1, 2]\n",
      "Effective rabi frequency  0.82  [kHz]\n",
      "Effective laser frequency  -4987.0  [kHz]\n",
      "Laser phase phis 0.0\n",
      "(input in rad but displayed in degs)\n",
      "0.7211102550927979\n"
     ]
    }
   ],
   "source": [
    "#%% set parameters of lasers according to the paper\n",
    "R1 = 26*1e3*2*np.pi #recoil frequency\n",
    "#compute Dk\n",
    "Dk1 = np.sqrt(R1*2*MYb171/h) #effective wavenumber\n",
    "q = 1.3 #compensation scale parameter\n",
    "delta = 10 #kHz\n",
    "laser1 = Laser(config = {'Omega_eff':30,'wavevector':1,'Dk':Dk1,'laser_couple':[0,1,2],\n",
    "                'mu':2*(delta+1e3*ion_sys.fx),'phase':0})\n",
    "Omega_r = 10*laser1.eta(ion_sys.fx)\n",
    "Omega_b = 2*np.sqrt(3)*Omega_r/laser1.eta(ion_sys.fx)\n",
    "laser1.Omega_eff = Omega_b \n",
    "#red sideband\n",
    "laser2 = copy.copy(laser1)\n",
    "laser2.Omega_eff = Omega_r \n",
    "laser2.mu = -1*(delta+1e3*ion_sys.fx)\n",
    "#compensation beatnote\n",
    "#compensation blue sideband\n",
    "laser3 = copy.copy(laser1)\n",
    "laser3.Omega_eff = np.sqrt(q)*Omega_b \n",
    "laser3.mu = 2*(-q*delta+1e3*ion_sys.fx)\n",
    "#compensation red sideband\n",
    "laser4 = copy.copy(laser1)\n",
    "laser4.Omega_eff = np.sqrt(q)*Omega_r \n",
    "laser4.mu = -1*(-q*delta+1e3*ion_sys.fx)\n",
    "print('________________________________________________')\n",
    "print('Parameteres of laser 1')\n",
    "laser1.list_para()\n",
    "print('________________________________________________')\n",
    "print('Parameteres of laser 2')\n",
    "laser2.list_para()\n",
    "print('________________________________________________')\n",
    "print('Parameteres of laser 3')\n",
    "laser3.list_para()\n",
    "print('________________________________________________')\n",
    "print('Parameteres of laser 4')\n",
    "laser4.list_para()\n",
    "#print(laser1.R/(2*np.pi))\n",
    "print(Omega_r)\n",
    "N = 3"
   ]
  },
  {
   "cell_type": "code",
   "execution_count": 5,
   "id": "cbb42f55",
   "metadata": {},
   "outputs": [
    {
     "name": "stdout",
     "output_type": "stream",
     "text": [
      "predicted period, [ms]\n",
      "492.16180983765184\n"
     ]
    }
   ],
   "source": [
    "#%%com mode simulation\n",
    "def Tthree(eta0, wr,wb,delta0,q):\n",
    "    J32 = (1+np.sqrt(1/q))*(eta0**4*wr**2*wb)/(16*delta0**2)\n",
    "    return np.pi/(6*J32)\n",
    "eta_com = laser1.eta(ion_sys.fx)/np.sqrt(3)\n",
    "print('predicted period, [ms]')\n",
    "print(Tthree(eta_com,laser2.Omega(ion_sys),laser1.Omega(ion_sys),delta*2*np.pi,q))"
   ]
  },
  {
   "cell_type": "code",
   "execution_count": 6,
   "id": "4da30522",
   "metadata": {},
   "outputs": [
    {
     "name": "stdout",
     "output_type": "stream",
     "text": [
      "Trap parametric modulation updated\n",
      "________________________________________________________________\n",
      "********************Setup of the Trap************************\n",
      "number of ions 3\n",
      "Axial COM (Confining) frequency  1  [MHz]\n",
      "Radial COM (Confining) frequency  5 [MHz]\n",
      "Axial vibrational eigenfrequency [1.   1.73 2.41] MHz\n",
      "Radial (Transverse) vibrational eigenfrequency [5.   4.9  4.75] [MHz]\n",
      "Modulation Amplitude for parameteric amplification:  0.06 [V]\n",
      "Modulation Frequency for parameteric amplification:  10020 [MHz]\n",
      "Trap dimension parameter:  200 [um]\n",
      "                                                                 \n",
      "********************Config of Numeric Calculation************************\n",
      "index of phonon space included in simulation:  [[0]]\n",
      "corresonding phonon space cutoff  [[40]]\n",
      "********************Config of Cooling************************\n",
      "Effective cooling rate  [2. 2.]  [kHz]\n",
      "Coolant index  [1]\n",
      "********************Config of Trap Modulation************************\n",
      " Modulation Amplitude 0.06  [V]\n",
      " Modulation Amplitude 10020  [kHz]\n",
      " Trap dimension parameter 200  [um]\n",
      "Predicted phonon osicllation frequency, [kHz]\n",
      "9.034121743467551\n"
     ]
    }
   ],
   "source": [
    "#%% set PA parameters, set V_mod to 0 for dynamics without PA\n",
    "ion_sys.update_PM(para_mod_config = {'f_mod':2*(ion_sys.fx*1000+delta) ,'V_mod':6*1e-2,'d_T':200})\n",
    "ion_sys.list_para() #print parameters of the system\n",
    "print('Predicted phonon osicllation frequency, [kHz]')\n",
    "gcoef = ion_sys.PA_coef(1,0)/(2*np.pi)\n",
    "delta1 = np.sqrt(delta**2 - gcoef**2 )\n",
    "print(delta1)"
   ]
  },
  {
   "cell_type": "code",
   "execution_count": 7,
   "id": "2eda3cfe",
   "metadata": {},
   "outputs": [],
   "source": [
    "#%% construct states and operators \n",
    "#construct initial state (initialized as up up)\n",
    "spin_config = np.array([1,1,1])\n",
    "psi1 = sp_op.ini_state(ion_sys,spin_config,[[0,0,0]],1)\n",
    "#rho1 = sp_op.ini_state(ion_sys,spin_config,[[0,0,0]],0\n",
    "elist_com = [tensor(spin.sz(N,0),sp_op.p_I(ion_sys)),\n",
    "          tensor(spin.sz(N,1),sp_op.p_I(ion_sys)),\n",
    "          tensor(spin.sz(N,2),sp_op.p_I(ion_sys))]\n",
    "#projection operators\n",
    "up = basis(2,0)\n",
    "down = basis(2,1)\n",
    "s1 = (basis(2,0)+basis(2,1))/np.sqrt(2) #+\n",
    "s2 = (basis(2,0)-basis(2,1))/np.sqrt(2) #-\n",
    "sup = tensor(up,up,up); sdown = tensor(down,down,down)\n",
    "splus = tensor(s1,s1,s1) ; sminus = tensor(s2,s2,s2)\n",
    "proj1=tensor(splus*splus.dag(),sp_op.p_I(ion_sys)) #|+++>\n",
    "proj2=tensor(sminus*sminus.dag(),sp_op.p_I(ion_sys)) #|--->\n",
    "proj3 = tensor(sup*sup.dag(),sp_op.p_I(ion_sys))\n",
    "proj4 = tensor(sdown*sdown.dag(),sp_op.p_I(ion_sys))"
   ]
  },
  {
   "cell_type": "code",
   "execution_count": 8,
   "id": "6d6ba2b5",
   "metadata": {},
   "outputs": [
    {
     "name": "stdout",
     "output_type": "stream",
     "text": [
      "______________________________________________________________________\n",
      "solving for complete Hamiltonian\n",
      "10.0%. Run time:   1.09s. Est. time left: 00:00:00:09\n",
      "20.0%. Run time:   2.17s. Est. time left: 00:00:00:08\n",
      "30.0%. Run time:   3.30s. Est. time left: 00:00:00:07\n",
      "40.0%. Run time:   4.44s. Est. time left: 00:00:00:06\n",
      "50.0%. Run time:   5.59s. Est. time left: 00:00:00:05\n",
      "60.0%. Run time:   6.77s. Est. time left: 00:00:00:04\n",
      "70.0%. Run time:   7.95s. Est. time left: 00:00:00:03\n",
      "80.0%. Run time:   9.15s. Est. time left: 00:00:00:02\n",
      "90.0%. Run time:  10.31s. Est. time left: 00:00:00:01\n",
      "Total run time:  11.48s\n"
     ]
    }
   ],
   "source": [
    "#%%construct Hamiltonian \n",
    "Htb_com, arg_tb = iscc.H_com_multi(ion_sys,laser2,laser1,laser4,laser3,q) #construct time-dependent H\n",
    "H_PA_com, arg_Hpa = Isp.H_PA_td(ion_sys)\n",
    "Heff_com = Htb_com + H_PA_com; arg_com = arg_tb | arg_Hpa\n",
    "#solve time dependent SE\n",
    "times =  np.arange(0,1,1e-3)\n",
    "#solve time dependent SE\n",
    "print('______________________________________________________________________')\n",
    "print('solving for complete Hamiltonian')\n",
    "result2 = sesolve(Heff_com,psi1,times,args = arg_com,progress_bar=True,options=Options(nsteps=10000))     \n",
    "#result2 = mesolve(Heff2,rho1,times,args = arg2,progress_bar=True,options=Options(nsteps=10000))  "
   ]
  },
  {
   "cell_type": "code",
   "execution_count": 9,
   "id": "731ba30c",
   "metadata": {},
   "outputs": [
    {
     "data": {
      "image/png": "[encoded data removed]",
      "text/plain": [
       "<Figure size 432x288 with 1 Axes>"
      ]
     },
     "metadata": {
      "needs_background": "light"
     },
     "output_type": "display_data"
    }
   ],
   "source": [
    "#%%plot spin evolution\n",
    "p2 = expect(elist_com[0],result2.states)\n",
    "plt.plot(times,p2,label = 'complete H')\n",
    "plt.xlabel(r'$t$ [ms]',fontsize = 14)\n",
    "#title = r'$\\delta_{com} = $'+str(ion_sys.delta)+' kHz'\n",
    "plt.ylabel(r'$<\\sigma_{zz}>$',fontsize = 14)\n",
    "plt.yticks(fontsize = 14)\n",
    "plt.xticks(fontsize = 14)\n",
    "plt.legend(fontsize = 12)\n",
    "plt.grid()\n",
    "plt.show()"
   ]
  },
  {
   "cell_type": "code",
   "execution_count": 10,
   "id": "10a6bf84",
   "metadata": {},
   "outputs": [
    {
     "name": "stdout",
     "output_type": "stream",
     "text": [
      "Maximum phonon population highest com fock state\n",
      "2.1105510874659702e-11\n"
     ]
    },
    {
     "data": {
      "image/png": "[encoded data removed]",
      "text/plain": [
       "<Figure size 432x288 with 1 Axes>"
      ]
     },
     "metadata": {
      "needs_background": "light"
     },
     "output_type": "display_data"
    }
   ],
   "source": [
    "#%% plot phonon evolution\n",
    "mp_state1 = expect(sp_op.pstate_measure(ion_sys,laser1,39,0),result2.states) \n",
    "pplot = expect(sp_op.phonon_measure(ion_sys,laser1, mindex=0), result2.states)\n",
    "print('Maximum phonon population highest com fock state')\n",
    "print(np.max(mp_state1))  \n",
    "plt.plot(times,pplot,label= 'complete H')\n",
    "plt.xlabel(r'$t$ [ms]',fontsize = 14)\n",
    "plt.ylabel(r'$<a^+ a>$',fontsize = 14)\n",
    "plt.yticks(fontsize = 14)\n",
    "plt.xticks(fontsize = 14)\n",
    "plt.legend(fontsize = 12)\n",
    "plt.grid()\n",
    "plt.show()"
   ]
  },
  {
   "cell_type": "code",
   "execution_count": 11,
   "id": "e8445e61",
   "metadata": {},
   "outputs": [
    {
     "name": "stdout",
     "output_type": "stream",
     "text": [
      "start frame generation\n"
     ]
    },
    {
     "name": "stderr",
     "output_type": "stream",
     "text": [
      "D:\\Anaconda\\lib\\site-packages\\sigfig\\sigfig.py:586: UserWarning: warning: 2 significant figures requested from number with only 1 significant figures\n",
      "  warn(\"warning: %d significant figures requested from number with only %d significant figures\" % (given['sigfigs'], len(num.map)))\n"
     ]
    },
    {
     "name": "stdout",
     "output_type": "stream",
     "text": [
      "percent of tasks completed: 10%\n",
      "percent of tasks completed: 20%\n",
      "percent of tasks completed: 30%\n",
      "percent of tasks completed: 40%\n",
      "percent of tasks completed: 50%\n",
      "percent of tasks completed: 60%\n",
      "percent of tasks completed: 70%\n",
      "percent of tasks completed: 80%\n",
      "percent of tasks completed: 90%\n",
      "All tasks finished.\n"
     ]
    }
   ],
   "source": [
    "#%% generate frames for gif, use |---> as projector\n",
    "tot_frame = 100\n",
    "wg.wigner_evol_frames(tot_frame,times,result2, proj2, 3)"
   ]
  },
  {
   "cell_type": "code",
   "execution_count": 12,
   "id": "e060a4f2",
   "metadata": {},
   "outputs": [
    {
     "name": "stdout",
     "output_type": "stream",
     "text": [
      "3body pa -.gif successfully generated.\n",
      "Stored at C:\\Users\\zhumj\\Desktop\\notebook examples\n"
     ]
    }
   ],
   "source": [
    "#%% create gif using generated frames\n",
    "output_name = '3body pa -.gif'\n",
    "wg.wiger_evol_gif(tot_frame, output_name, frame_duration=0.25, remove_frame = True)"
   ]
  },
  {
   "cell_type": "code",
   "execution_count": null,
   "id": "68de6b88",
   "metadata": {},
   "outputs": [],
   "source": []
  }
 ],
 "metadata": {
  "kernelspec": {
   "display_name": "Python 3 (ipykernel)",
   "language": "python",
   "name": "python3"
  },
  "language_info": {
   "codemirror_mode": {
    "name": "ipython",
    "version": 3
   },
   "file_extension": ".py",
   "mimetype": "text/x-python",
   "name": "python",
   "nbconvert_exporter": "python",
   "pygments_lexer": "ipython3",
   "version": "3.9.7"
  }
 },
 "nbformat": 4,
 "nbformat_minor": 5
}
