{
 "cells": [
  {
   "cell_type": "markdown",
   "id": "89cc0d28",
   "metadata": {},
   "source": [
    "This example intends to show how to import modules and read the documentation of functions in this package."
   ]
  },
  {
   "cell_type": "code",
   "execution_count": 1,
   "id": "9865ec06",
   "metadata": {},
   "outputs": [
    {
     "name": "stdout",
     "output_type": "stream",
     "text": [
      "\n",
      "Operators on spin space\n",
      "functions: sx, sy, sz, sry, zero_op, sI, phid, phiup, spin_state   \n",
      "@author: zhumj\n",
      "\n"
     ]
    }
   ],
   "source": [
    "#import the spin subpackage from ion_chain.operator and call it \"spin\" for futher usage\n",
    "import Qsim.operator.spin as spin\n",
    "#print the discription of the package and list the name of all functions\n",
    "print(spin.__doc__)"
   ]
  },
  {
   "cell_type": "code",
   "execution_count": 2,
   "id": "720ef30b",
   "metadata": {},
   "outputs": [
    {
     "name": "stdout",
     "output_type": "stream",
     "text": [
      "Help on function sx in module Qsim.operator.spin:\n",
      "\n",
      "sx(N=1, i=0)\n",
      "    generate the sigmax operator acting on the ith (python index) spin 1/2\n",
      "    in the system of N ions\n",
      "    Input: \n",
      "        N: int\n",
      "            number of ions in the system, N > 1\n",
      "        i: int \n",
      "            python index of the ion that the operator acts on, from 0 to N-1\n",
      "    Output:\n",
      "        Qutip Operator\n",
      "\n"
     ]
    }
   ],
   "source": [
    "#print the documentation for function sx\n",
    "help(spin.sx)"
   ]
  },
  {
   "cell_type": "code",
   "execution_count": 3,
   "id": "f822f8e4",
   "metadata": {},
   "outputs": [],
   "source": [
    "#%% this part illustrates how to use class ions \n",
    "#import all functions of ion_system.py from ion_chain.ising \n",
    "from  Qsim.ion_chain.ion_system import *"
   ]
  },
  {
   "cell_type": "code",
   "execution_count": 4,
   "id": "242eebe0",
   "metadata": {},
   "outputs": [
    {
     "name": "stdout",
     "output_type": "stream",
     "text": [
      "Help on class ions in module Qsim.ion_chain.ion_system:\n",
      "\n",
      "class ions(builtins.object)\n",
      " |  ions(trap_config={'N': 2, 'fx': 2, 'fz': 1}, numeric_config={'active_spin': [0, 1], 'active_phonon': [[0, 1]], 'pcut': [[5, 5]]}, cooling_config={'gamma': [2.0, 2.0], 'coolant': [1]})\n",
      " |  \n",
      " |  this class is used to store the parameters of a N ion system couples to a \n",
      " |  single laser drive in Axial or Radial direction, assuming the two radial \n",
      " |  directions are equivalent object attributes to be set directly\n",
      " |  ion_config:\n",
      " |  N : int\n",
      " |      number of ions in the system\n",
      " |  fz : float\n",
      " |      axial frequency of the ion trap, [MHz]\n",
      " |  fx : float\n",
      " |      transverse frequency of the ion trap, [MHz]\n",
      " |      \n",
      " |  laser_config:\n",
      " |  Omega_eff: float\n",
      " |       effective laser_dipole Rabi frequency Omega * dK * X_0(fx) [kHz],\n",
      " |  laser_couple: list of int\n",
      " |      ion index that couples to the laser, for instance [0,1] means couple to \n",
      " |      ion 0, 1\n",
      " |  delta: float\n",
      " |      Laser detuning from a specific eigenfrequency, used to specify laser \n",
      " |      frequency.      \n",
      " |  delta_ref: int \n",
      " |      reference eigenfrequency index correspond to delta, 0 for com mode\n",
      " |  phase: float\n",
      " |      spin phase phis [rad]\n",
      " |      \n",
      " |  numeric config\n",
      " |  active_spin: list of int\n",
      " |      index of ionic spin space to be considered \n",
      " |  active_phonon: list of list of int\n",
      " |      Index of phonon space to be be considered.\n",
      " |      Initialized in form [[axial]]/[[radial]] if only \n",
      " |      1 vibrational degree of freedom is considered. \n",
      " |      Initialized in form [[axial],[radial]] if both \n",
      " |      vibrational degrees of freedoms are considered. \n",
      " |      (0 always means com mode)\n",
      " |      For instance, [[1,2],[0,2]] means consider the tilt, \n",
      " |      rock mode for axial motion com, rock mode for 1 radial motion.\n",
      " |  pcut: list of list of int\n",
      " |      Cutoff of phonon space size for each phonon space to be considered, \n",
      " |      needs to be consistent with active_phonon. \n",
      " |      Initialized in form [[axial]]/[[radial]] if only\n",
      " |      1 vibration degree of freedom is considered. \n",
      " |      Initialized in form [[axial],[radial]] if both \n",
      " |      vibrational degrees of freedoms are considered.\n",
      " |  \n",
      " |  cooling config\n",
      " |  gamma: list of float\n",
      " |      cooling rate on each phonon space\n",
      " |  coolant: list of int\n",
      " |      index of coolant    \n",
      " |      \n",
      " |  important class method:\n",
      " |  \n",
      " |  Methods defined here:\n",
      " |  \n",
      " |  A_matrix(self)\n",
      " |  \n",
      " |  Axial_eval(self)\n",
      " |      compute the eigenvalue of axial elastic tensor\n",
      " |      Returns\n",
      " |      -------\n",
      " |      np array object, each index is an eigenvalue for axial mode [unit of 1]\n",
      " |      The eigenvalues are arranged in an increasing order, such that the first \n",
      " |      one corresponds to COM mode frequency\n",
      " |  \n",
      " |  Axial_mode(self)\n",
      " |      compute the eigenmodes of axial oscillation \n",
      " |      Returns\n",
      " |      -------\n",
      " |      np array object that represents N by N matrix, each row is an axial eigenmode\n",
      " |      The eigenmode are arranged in an increasing order of eigenvalues, such that the first \n",
      " |      one correpond to COM mode\n",
      " |  \n",
      " |  Equi_posi(self)\n",
      " |      compute the equilibrium position of 1-D ion-chain\n",
      " |      \n",
      " |      Returns\n",
      " |      -------\n",
      " |      np array object, each index a equilibirum position\n",
      " |  \n",
      " |  Lambda(self)\n",
      " |      Compute the reorgonization energy lambda, which also correponds to energy\n",
      " |      splitting that leads to the maximum transfer rate\n",
      " |      Returns\n",
      " |      -------\n",
      " |      float [J/10**6]\n",
      " |  \n",
      " |  R_matrix(self)\n",
      " |  \n",
      " |  Radial_eval(self)\n",
      " |      compute the eigenvalue of transverse/radial elastic tensor\n",
      " |      Returns\n",
      " |      -------\n",
      " |      np array object, each index is an eigenvalue for Transverse(Radial) mode [unit of 1]\n",
      " |      The eigenvalues are arranged in an decreasing order, such that the first \n",
      " |      one correpond to COM mode frequency\n",
      " |  \n",
      " |  Radial_mode(self)\n",
      " |      compute the eigenmode of radial oscillation\n",
      " |      \n",
      " |      Returns\n",
      " |      -------\n",
      " |      np array object that represents N by N matrix, each row is an Transverse (Radial) eigenmode\n",
      " |      The eigenmode are arranged in an decreasing order of eigenvalues, such that the first \n",
      " |      one correpond to COM mode\n",
      " |  \n",
      " |  __init__(self, trap_config={'N': 2, 'fx': 2, 'fz': 1}, numeric_config={'active_spin': [0, 1], 'active_phonon': [[0, 1]], 'pcut': [[5, 5]]}, cooling_config={'gamma': [2.0, 2.0], 'coolant': [1]})\n",
      " |      initialize a ions class object with given parameters\n",
      " |      Parameters\n",
      " |      ----------\n",
      " |      trap_config : dict, optional\n",
      " |          parameters for trap configuration. \n",
      " |          The default is {'N':2,'fx':2,'fz':1}:\n",
      " |          N = 2 ions, fx = 2MHz, fz = 1MHz\n",
      " |      numeric_config : dict, optional\n",
      " |          parameters for phonon space configuration. \n",
      " |          The default is {'active_phonon':[[0,1]],'pcut' : [[5,5]]}.\n",
      " |          consider all 2 modes in axial/radial direction and set cutoff level at 5\n",
      " |      cooling_config : dict optional\n",
      " |          parameters for cooling configuration. \n",
      " |          The default is {'gamma':[0.1 * 20, 0.1*20],'coolant' : [1]}.\n",
      " |      \n",
      " |      Returns\n",
      " |      -------\n",
      " |      None.\n",
      " |  \n",
      " |  ah_C(self, m, n, p)\n",
      " |      Compute the anharmonic tensor C elements for classical Lagrangian \n",
      " |      \n",
      " |      Parameters\n",
      " |      ----------\n",
      " |      m, n, p : int\n",
      " |      python index from 0~N-1\n",
      " |      \n",
      " |      Returns\n",
      " |      -------\n",
      " |      float\n",
      " |      tensor element m, n, p\n",
      " |  \n",
      " |  ah_D(self, p0, q, r)\n",
      " |      Compute the anharmonic tensor D element for mode-mode coupling   \n",
      " |      \n",
      " |      Parameters\n",
      " |      ----------\n",
      " |      p0, q, r : int\n",
      " |      python index from 0~N-1\n",
      " |      \n",
      " |      Returns\n",
      " |      -------\n",
      " |      float\n",
      " |      tensor element p, q, r\n",
      " |  \n",
      " |  ah_couple(self, mode_index, real_unit=False)\n",
      " |      Compute the anharmonic coupling strength for index m , n, p\n",
      " |      \n",
      " |      Parameters\n",
      " |      ----------\n",
      " |      mode_index: list of python index [m n p]\n",
      " |      m,n for transverse modes, p for axial mode\n",
      " |      real_unit: bool\n",
      " |          default as False\n",
      " |          if True, compute coefficients in unit of kHz\n",
      " |          if false, compute coefficients in unit of fz\n",
      " |      Returns\n",
      " |      -------\n",
      " |      float, anharmonic coupling strength, [unit 1]\n",
      " |      multiply fz to get coupling strength in Hz\n",
      " |      or real frequency in kHz\n",
      " |  \n",
      " |  ah_epsilon(self)\n",
      " |      Compute the anharmonic coefficient epsilon = sqrt(hbar/(2 m fz)/(4l))\n",
      " |      -------\n",
      " |      Returns\n",
      " |      -------\n",
      " |      float unit of 1\n",
      " |  \n",
      " |  ah_freq(self, mode_index, ftype)\n",
      " |      compute the oscillating frequency of the anharmonic term m n p\n",
      " |      \n",
      " |      Parameters\n",
      " |      ----------\n",
      " |      m : int\n",
      " |          index of radial mode 1\n",
      " |      n : int\n",
      " |          index of radial mode\n",
      " |      p : int\n",
      " |          index of axial mode \n",
      " |      ftype: int\n",
      " |          determines the type of frequency to be computed\n",
      " |          0 for -\n",
      " |          1 for +\n",
      " |      Returns\n",
      " |      -------\n",
      " |      frequency in kHz\n",
      " |  \n",
      " |  alpha(self)\n",
      " |      compute anisotropy coefficient of the trap\n",
      " |      Returns\n",
      " |      -------\n",
      " |      float, unit of 1\n",
      " |  \n",
      " |  check_phonon(self)\n",
      " |      Check the consistency in set up of phonon space\n",
      " |  \n",
      " |  df_phonon(self)\n",
      " |      output parameteres to construct phonon space\n",
      " |      Returns\n",
      " |      -------\n",
      " |      ph_space : list \n",
      " |          the first element is the number of degree of freedoms considered.\n",
      " |          the second second element is list in which each element is the \n",
      " |          number of phonon space to be considered for a specfic degreea of freedom\n",
      " |          for instance [2, [3, 3]] means 2 degreee of freedom to be considered\n",
      " |          and 3 phonon spaces for each degree of freedom\n",
      " |  \n",
      " |  expeak(self)\n",
      " |      compute the expected peak frequencies\n",
      " |  \n",
      " |  l0(self)\n",
      " |      compute the chracteristic length scale of the system\n",
      " |      \n",
      " |      Returns\n",
      " |      -------\n",
      " |      float, unit of m\n",
      " |  \n",
      " |  list_para(self)\n",
      " |      list basic physical parameters of the trapped ion chain\n",
      " |  \n",
      " |  plot_ah_c(self, non_zero=True, real_freq=True)\n",
      " |      Plot absolute value of anharmonic coefficients D_mnp\n",
      " |      \n",
      " |      Parameters\n",
      " |      ----------\n",
      " |      non_zero: bool \n",
      " |          default is True, if True, only plot non-zero coefficeints     \n",
      " |      real_freq: bool \n",
      " |          default is True, if True, plot real anharmonic coupling coefficients in kHz \n",
      " |                           if False, plot elements of tensor D\n",
      " |      Returns\n",
      " |      -------\n",
      " |      None.\n",
      " |  \n",
      " |  plot_ah_freq(self, non_zero=True)\n",
      " |      Plot absolute value of anharmonic coupling freq\n",
      " |      \n",
      " |      Parameters\n",
      " |      ----------\n",
      " |      non_zero: bool \n",
      " |          default is True, if True, only plot non-zero coefficeints     \n",
      " |      \n",
      " |      Returns\n",
      " |      -------\n",
      " |      None.\n",
      " |  \n",
      " |  update_all(self, trap_config=None, numeric_config=None, cooling_config=None, print_text=True)\n",
      " |  \n",
      " |  update_cooling(self, cooling_config=None, print_text=True)\n",
      " |       Set laser parameters and compute all related attributes. \n",
      " |       (see pdf document for details)\n",
      " |       Parameters\n",
      " |       ----------\n",
      " |       cooling_config : dict, optional\n",
      " |          Parameters for laser configuration. The default is None.\n",
      " |       print_text : bool, optional\n",
      " |         If true, print a message after updating parameters. The default is True.\n",
      " |      \n",
      " |      Returns\n",
      " |      -------\n",
      " |      None.\n",
      " |  \n",
      " |  update_numeric(self, numeric_config=None, print_text=True)\n",
      " |       Set phonon parameters and compute all related attributes. \n",
      " |       (see pdf document for details)\n",
      " |       Parameters\n",
      " |       ----------\n",
      " |       numeric_config : dict, optional\n",
      " |          Parameters for phonon space configuration. The default is None.\n",
      " |       print_text : bool, optional\n",
      " |         If true, print a message after updating parameters. The default is True.\n",
      " |      \n",
      " |      Returns\n",
      " |      -------\n",
      " |      None.\n",
      " |  \n",
      " |  update_trap(self, trap_config=None, print_text=True)\n",
      " |      Set trap parameters and compute all related attributes. \n",
      " |      (see pdf document for details)\n",
      " |      Parameters\n",
      " |      ----------\n",
      " |      trap_config : dict, optional\n",
      " |         Parameters for trap configuration. The default is None.\n",
      " |      print_text : bool, optional\n",
      " |          If true, print a message after updating parameters. \n",
      " |          The default is True.\n",
      " |      \n",
      " |      Returns\n",
      " |      -------\n",
      " |      None.\n",
      " |  \n",
      " |  ----------------------------------------------------------------------\n",
      " |  Data descriptors defined here:\n",
      " |  \n",
      " |  __dict__\n",
      " |      dictionary for instance variables (if defined)\n",
      " |  \n",
      " |  __weakref__\n",
      " |      list of weak references to the object (if defined)\n",
      "\n"
     ]
    }
   ],
   "source": [
    "# see the documents for ions class\n",
    "help(ions)\n"
   ]
  },
  {
   "cell_type": "code",
   "execution_count": 5,
   "id": "7b92ebf9",
   "metadata": {},
   "outputs": [
    {
     "name": "stdout",
     "output_type": "stream",
     "text": [
      "Help on function alpha in module Qsim.ion_chain.ion_system:\n",
      "\n",
      "alpha(self)\n",
      "    compute anisotropy coefficient of the trap\n",
      "    Returns\n",
      "    -------\n",
      "    float, unit of 1\n",
      "\n"
     ]
    }
   ],
   "source": [
    "#read document for a specific function in this class\n",
    "help(ions.alpha)"
   ]
  },
  {
   "cell_type": "code",
   "execution_count": 6,
   "id": "ae57638f",
   "metadata": {},
   "outputs": [
    {
     "name": "stdout",
     "output_type": "stream",
     "text": [
      "Trap coefficients updated\n",
      "Anharmonic coefficients updated\n",
      "_____________________________________________________________\n",
      "Checking phonon space setup\n",
      "Phonon space setups are consistent\n",
      "_____________________________________________________________\n",
      "Phonon space parameters updated\n",
      "Cooling parameters updated\n",
      "Ions class object initialized.\n",
      "{'N': 2, 'fx': 2, 'fz': 1, 'equi_posi': array([-0.62996052,  0.62996052]), 'a_matrix': array([[ 2., -1.],\n",
      "       [-1.,  2.]]), 'r_matrix': array([[3.5, 0.5],\n",
      "       [0.5, 3.5]]), 'axial_eval': array([1., 3.]), 'radial_eval': array([4., 3.]), 'axial_mode': array([[ 0.70710678,  0.70710678],\n",
      "       [ 0.70710678, -0.70710678]]), 'radial_mode': array([[ 0.70710678,  0.70710678],\n",
      "       [-0.70710678,  0.70710678]]), 'axial_freq': array([1.        , 1.73205081]), 'radial_freq': array([2.        , 1.73205081]), 'ah_epsilon_val': 0.0004959419689930792, 'ah_C_tensor': array([[[ 0.39685026, -0.39685026],\n",
      "        [-0.39685026,  0.39685026]],\n",
      "\n",
      "       [[-0.39685026,  0.39685026],\n",
      "        [ 0.39685026, -0.39685026]]]), 'ah_D_tensor': array([[[ 0.        ,  0.        ],\n",
      "        [ 0.        ,  0.        ]],\n",
      "\n",
      "       [[ 0.        ,  0.        ],\n",
      "        [ 0.        , -1.12246205]]]), 'active_spin': [0, 1], 'active_phonon': [[0, 1]], 'pcut': [[5, 5]], 'df_spin': 2, 'gamma': [2.0, 2.0], 'coolant': [1]}\n"
     ]
    }
   ],
   "source": [
    "#%% construct a 2 ion system with default parameters\n",
    "two_ion_sys = ions()\n",
    "#list all attributes\n",
    "print(two_ion_sys.__dict__)"
   ]
  },
  {
   "cell_type": "code",
   "execution_count": 7,
   "id": "46e8973e",
   "metadata": {},
   "outputs": [
    {
     "name": "stdout",
     "output_type": "stream",
     "text": [
      "Trap coefficients updated\n",
      "Anharmonic coefficients updated\n",
      "_____________________________________________________________\n",
      "Checking phonon space setup\n",
      "Phonon space setups are consistent\n",
      "_____________________________________________________________\n",
      "Phonon space parameters updated\n",
      "Cooling parameters updated\n",
      "Ions class object initialized.\n",
      "________________________________________________________________\n",
      "********************Setup of the Trap************************\n",
      "number of ions 3\n",
      "Axial COM (Confining) frequency  1  [MHz]\n",
      "Radial COM (Confining) frequency  2 [MHz]\n",
      "Axial vibrational eigenfrequency [1.   1.73 2.41] MHz\n",
      "Radial (Transverse) vibrational eigenfrequency [2.   1.73 1.26] MHz\n",
      "                                                                 \n",
      "********************Config of Numeric Calculation************************\n",
      "index of phonon space included in simulation:  [[0, 1, 2]]\n",
      "corresonding phonon space cutoff  [[5, 5, 5]]\n",
      "********************Config of Cooling************************\n",
      "Effective cooling rate  [2. 2. 2.]  [kHz]\n",
      "Coolant index  [2]\n"
     ]
    }
   ],
   "source": [
    "#%% initialize a 3 ion system with laser drive in axial direction and coupled to\n",
    "#all 3 ions. Consider all 3 axial phonon modes and set phonon space cutoff as 5\n",
    "three_ion_sys = ions(trap_config={'N': 3, 'fx': 2, 'fz': 1}, \n",
    "                   numeric_config={'active_spin':[0,1,2], 'active_phonon': [[0, 1, 2]], 'pcut': [[5, 5, 5]]},\n",
    "                   cooling_config={'gamma': [2.0, 2.0, 2.0], 'coolant': [2]}\n",
    "                   )\n",
    "three_ion_sys .list_para()"
   ]
  },
  {
   "cell_type": "code",
   "execution_count": 8,
   "id": "acca2703",
   "metadata": {},
   "outputs": [
    {
     "name": "stdout",
     "output_type": "stream",
     "text": [
      "Trap coefficients updated\n",
      "Anharmonic coefficients updated\n",
      "________________________________________________________________\n",
      "********************Setup of the Trap************************\n",
      "number of ions 3\n",
      "Axial COM (Confining) frequency  1  [MHz]\n",
      "Radial COM (Confining) frequency  3 [MHz]\n",
      "Axial vibrational eigenfrequency [1.   1.73 2.41] MHz\n",
      "Radial (Transverse) vibrational eigenfrequency [3.   2.83 2.57] MHz\n",
      "                                                                 \n",
      "********************Config of Numeric Calculation************************\n",
      "index of phonon space included in simulation:  [[0, 1, 2]]\n",
      "corresonding phonon space cutoff  [[5, 5, 5]]\n",
      "********************Config of Cooling************************\n",
      "Effective cooling rate  [2. 2. 2.]  [kHz]\n",
      "Coolant index  [2]\n"
     ]
    }
   ],
   "source": [
    "#%% update radial confining frequency and recompute related parameters\n",
    "three_ion_sys.fx = 3\n",
    "three_ion_sys.update_trap()\n",
    "three_ion_sys.list_para()"
   ]
  },
  {
   "cell_type": "markdown",
   "id": "0347d484",
   "metadata": {},
   "source": [
    "It is important to call .update_trap/update_all method to update attributes that are not set directly. "
   ]
  },
  {
   "cell_type": "code",
   "execution_count": 9,
   "id": "80eec620",
   "metadata": {},
   "outputs": [
    {
     "name": "stdout",
     "output_type": "stream",
     "text": [
      "axial tilt mode\n",
      "[ 7.07106781e-01  1.64782082e-12 -7.07106781e-01]\n",
      "axial tilt eigenfrequency [MHz]\n",
      "1.7320508075688794\n"
     ]
    }
   ],
   "source": [
    "#%%print axial tilt mode and corresponding eigenfrequencies\n",
    "print('axial tilt mode')\n",
    "print(three_ion_sys.axial_mode[1])\n",
    "print('axial tilt eigenfrequency [MHz]')\n",
    "print(three_ion_sys.axial_freq[1])"
   ]
  },
  {
   "cell_type": "code",
   "execution_count": 10,
   "id": "1bd32dd5",
   "metadata": {},
   "outputs": [
    {
     "name": "stdout",
     "output_type": "stream",
     "text": [
      "Help on class Laser in module Qsim.ion_chain.ion_system:\n",
      "\n",
      "class Laser(builtins.object)\n",
      " |  Laser(config={'Omega_eff': 10, 'wavevector': 1, 'Dk': 25030326.412159804, 'laser_couple': [0, 1], 'mu': 1000.0, 'phase': 0})\n",
      " |  \n",
      " |  Methods defined here:\n",
      " |  \n",
      " |  Omega(self, ion0)\n",
      " |      compute real rabi frequency [2pi kHz] in a given laser direction\n",
      " |      \n",
      " |      Parameters\n",
      " |      ----------\n",
      " |      ion0 : ions class object\n",
      " |      laser0 : Laser class object\n",
      " |      \n",
      " |      Returns\n",
      " |      -------\n",
      " |      float\n",
      " |  \n",
      " |  Recoil_freq(self)\n",
      " |      comupte recoil frequency in 2pi Hz\n",
      " |  \n",
      " |  __init__(self, config={'Omega_eff': 10, 'wavevector': 1, 'Dk': 25030326.412159804, 'laser_couple': [0, 1], 'mu': 1000.0, 'phase': 0})\n",
      " |      Initialize laser class object with given parameters\n",
      " |      Parameters\n",
      " |      ----------\n",
      " |      laser_config : dict, optional\n",
      " |          parameters for laser configuration.\n",
      " |          The default is {'Omega_eff':10,'df_laser':1,'laser_couple':[0,1],\n",
      " |                          'delta':20, 'delta_ref':0,'phase':0}.\n",
      " |          Omega_eff = 10 kHz (Effective Rabi frequency)\n",
      " |          wavevector = 1 (Laser drive in radial direction, 0 for axial direction)\n",
      " |          laser_couple = [0,1] (Laser coupled to all two ions)\n",
      " |          phase  = 0 rad (spin phase)\n",
      " |          Dk = np.sqrt(2)*2*np.pi / (355*10**(-9)) (Effective wavenumber)\n",
      " |      Returns\n",
      " |      -------\n",
      " |      None.\n",
      " |  \n",
      " |  detuning(self, ion0)\n",
      " |      compute detuning [2pi kHz] in a given laser direction\n",
      " |      \n",
      " |      Parameters\n",
      " |      ----------\n",
      " |      ion0 : ions class object\n",
      " |      laser0 : Laser class object\n",
      " |      \n",
      " |      Returns\n",
      " |      -------\n",
      " |      np array\n",
      " |  \n",
      " |  eta(self, f)\n",
      " |      Compute Lamb-Dicke coefficient for vibrational eigenmode with\n",
      " |      eigenfrequency f\n",
      " |      input(f)\n",
      " |      Parameters\n",
      " |      ----------\n",
      " |      f : float\n",
      " |         eigenfrequency [MHz]\n",
      " |      \n",
      " |      Returns\n",
      " |      -------\n",
      " |      float, unit SI\n",
      " |  \n",
      " |  list_para(self)\n",
      " |      list basic physical parameters of the laser drive\n",
      " |  \n",
      " |  update(self, config=None, print_text=True)\n",
      " |       Set laser parameters and compute all related attributes. \n",
      " |       (see pdf document for details)\n",
      " |       Parameters\n",
      " |       ----------\n",
      " |       config : dict, optional\n",
      " |          Parameters for laser configuration. The default is None.\n",
      " |       print_text : bool, optional\n",
      " |         If true, print a message after updating parameters. The default is True.\n",
      " |      \n",
      " |      Returns\n",
      " |      -------\n",
      " |      None.\n",
      " |  \n",
      " |  ----------------------------------------------------------------------\n",
      " |  Data descriptors defined here:\n",
      " |  \n",
      " |  __dict__\n",
      " |      dictionary for instance variables (if defined)\n",
      " |  \n",
      " |  __weakref__\n",
      " |      list of weak references to the object (if defined)\n",
      "\n"
     ]
    }
   ],
   "source": [
    "#this part illustrate how to use class 'laser'\n",
    "help(Laser)"
   ]
  },
  {
   "cell_type": "code",
   "execution_count": 11,
   "id": "71fb754e",
   "metadata": {},
   "outputs": [
    {
     "name": "stdout",
     "output_type": "stream",
     "text": [
      "Laser parameters updated\n",
      "Lasers class object initialized.\n",
      "{'Omega_eff': 10, 'wavevector': 1, 'laser_couple': [0, 1], 'mu': 1000.0, 'phase': 0, 'Dk': 25030326.412159804, 'R': 116341.3191186837}\n"
     ]
    }
   ],
   "source": [
    "#construct a laser drive with default parameters\n",
    "laser1 = Laser()\n",
    "#list all attributes\n",
    "print(laser1 .__dict__)"
   ]
  },
  {
   "cell_type": "code",
   "execution_count": 12,
   "id": "20ffc1d2",
   "metadata": {},
   "outputs": [
    {
     "name": "stdout",
     "output_type": "stream",
     "text": [
      "                                                                 \n",
      "********************Parameters of Laser Drive************************\n",
      "Vibrational degree of freedom couples to the laser: Transverse (Radial)\n",
      "index of ions that couple to the laser field:  [0, 1]\n",
      "Effective rabi frequency  10  [kHz]\n",
      "Effective laser frequency  3010  [kHz]\n",
      "Laser phase phis 0.0\n",
      "(input in rad but displayed in degs)\n"
     ]
    }
   ],
   "source": [
    "#update effective laser frequency [kHz] \n",
    "laser1.mu = three_ion_sys.fx *1000 + 10\n",
    "laser1.list_para()"
   ]
  },
  {
   "cell_type": "code",
   "execution_count": 13,
   "id": "04a9257e",
   "metadata": {},
   "outputs": [
    {
     "name": "stdout",
     "output_type": "stream",
     "text": [
      "Rabi frequency in 2pi kHz 799.7669222130278\n",
      "Lamb Dicke Coefficients\n",
      "[[ 4.53581991e-02  4.53581991e-02  4.53581991e-02]\n",
      " [-5.72123205e-02 -1.33345211e-13  5.72123205e-02]\n",
      " [ 3.46589538e-02 -6.93179075e-02  3.46589538e-02]]\n"
     ]
    }
   ],
   "source": [
    "import Qsim.ion_chain.interaction.spin_phonon as Isp\n",
    "#this part is about how to use object method, attributes of ions, laser class \n",
    "#compute the real rabi frequency based on the effective rabi frequency set\n",
    "print('Rabi frequency in 2pi kHz', laser1.Omega(three_ion_sys))\n",
    "#using Laser, ions class object to compute radial Lamb-Dicke coefficients \\eta _ im \n",
    "LD_mat = np.zeros([3,3])\n",
    "for i in range(3):\n",
    "    for m in range(3):\n",
    "        LD_mat[m,i] = laser1.eta(three_ion_sys.radial_freq[m])* three_ion_sys.radial_mode[m,i]\n",
    "        #note for convenience of indexing the order of ion index i and mode index m has been switched\n",
    "        #or compute using specialized function LD_coeff\n",
    "        #LD_mat[m,i] = Isp.LD_coef(three_ion_sys,laser1,i,m)\n",
    "print('Lamb Dicke Coefficients') \n",
    "print(LD_mat)"
   ]
  },
  {
   "cell_type": "code",
   "execution_count": 17,
   "id": "2d71ee9f",
   "metadata": {},
   "outputs": [
    {
     "data": {
      "image/png": "[encoded data removed]",
      "text/plain": [
       "<Figure size 432x288 with 1 Axes>"
      ]
     },
     "metadata": {
      "needs_background": "light"
     },
     "output_type": "display_data"
    }
   ],
   "source": [
    "#plot all eigenfrequencies\n",
    "plot_all_freq(three_ion_sys)\n",
    "#the other way is to call plot_N_freq, this function also works for N>3\n",
    "#plot_N_freq(three_ion_sys)"
   ]
  },
  {
   "cell_type": "code",
   "execution_count": 19,
   "id": "f71a432c",
   "metadata": {},
   "outputs": [
    {
     "data": {
      "image/png": "[encoded data removed]",
      "text/plain": [
       "<Figure size 432x288 with 1 Axes>"
      ]
     },
     "metadata": {
      "needs_background": "light"
     },
     "output_type": "display_data"
    }
   ],
   "source": [
    "#plot radial eigenfrequencies and effective laser frequency \\mu\n",
    "plot_freq(three_ion_sys,laser1)"
   ]
  },
  {
   "cell_type": "code",
   "execution_count": null,
   "id": "3ca64414",
   "metadata": {},
   "outputs": [],
   "source": []
  }
 ],
 "metadata": {
  "kernelspec": {
   "display_name": "Python 3 (ipykernel)",
   "language": "python",
   "name": "python3"
  },
  "language_info": {
   "codemirror_mode": {
    "name": "ipython",
    "version": 3
   },
   "file_extension": ".py",
   "mimetype": "text/x-python",
   "name": "python",
   "nbconvert_exporter": "python",
   "pygments_lexer": "ipython3",
   "version": "3.9.7"
  }
 },
 "nbformat": 4,
 "nbformat_minor": 5
}
